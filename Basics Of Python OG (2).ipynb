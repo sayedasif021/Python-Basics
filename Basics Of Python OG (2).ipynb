{
 "cells": [
  {
   "cell_type": "markdown",
   "id": "c8165a6e",
   "metadata": {},
   "source": [
    "### Print Hello World"
   ]
  },
  {
   "cell_type": "code",
   "execution_count": 1,
   "id": "aa1c5052",
   "metadata": {},
   "outputs": [
    {
     "name": "stdout",
     "output_type": "stream",
     "text": [
      "Hello World\n"
     ]
    }
   ],
   "source": [
    "print(\"Hello World\")"
   ]
  },
  {
   "cell_type": "code",
   "execution_count": 2,
   "id": "370a543d",
   "metadata": {},
   "outputs": [
    {
     "name": "stdout",
     "output_type": "stream",
     "text": [
      "SayyedAasef\n"
     ]
    }
   ],
   "source": [
    "print(\"SayyedAasef\")"
   ]
  },
  {
   "cell_type": "code",
   "execution_count": 3,
   "id": "1c413ffa",
   "metadata": {},
   "outputs": [
    {
     "name": "stdout",
     "output_type": "stream",
     "text": [
      "DataScience\n"
     ]
    }
   ],
   "source": [
    "print(\"DataScience\")"
   ]
  },
  {
   "cell_type": "markdown",
   "id": "e494a2b6",
   "metadata": {},
   "source": [
    "### Veriables"
   ]
  },
  {
   "cell_type": "code",
   "execution_count": 4,
   "id": "a811d1a9",
   "metadata": {},
   "outputs": [],
   "source": [
    "name=\"aasef\"\n",
    "Age=22\n",
    "Income=25000"
   ]
  },
  {
   "cell_type": "code",
   "execution_count": 5,
   "id": "280d991c",
   "metadata": {},
   "outputs": [
    {
     "name": "stdout",
     "output_type": "stream",
     "text": [
      "aasef\n",
      "22\n",
      "25000\n"
     ]
    }
   ],
   "source": [
    "print(name)\n",
    "print(Age)\n",
    "print(Income)"
   ]
  },
  {
   "cell_type": "code",
   "execution_count": 6,
   "id": "933ef165",
   "metadata": {},
   "outputs": [
    {
     "data": {
      "text/plain": [
       "('Sayyed', 'Aasef')"
      ]
     },
     "execution_count": 6,
     "metadata": {},
     "output_type": "execute_result"
    }
   ],
   "source": [
    "namelist=\"Sayyed\",\"Aasef\"\n",
    "namelist"
   ]
  },
  {
   "cell_type": "code",
   "execution_count": 7,
   "id": "8867771d",
   "metadata": {},
   "outputs": [
    {
     "ename": "SyntaxError",
     "evalue": "invalid syntax (1288899992.py, line 1)",
     "output_type": "error",
     "traceback": [
      "\u001b[1;36m  Cell \u001b[1;32mIn[7], line 1\u001b[1;36m\u001b[0m\n\u001b[1;33m    name lisht=\"Sayyed\",\"Aasef\"\u001b[0m\n\u001b[1;37m         ^\u001b[0m\n\u001b[1;31mSyntaxError\u001b[0m\u001b[1;31m:\u001b[0m invalid syntax\n"
     ]
    }
   ],
   "source": [
    "name lisht=\"Sayyed\",\"Aasef\"\n",
    "name list"
   ]
  },
  {
   "cell_type": "markdown",
   "id": "a36568a4",
   "metadata": {},
   "source": [
    "### Space is not allowed"
   ]
  },
  {
   "cell_type": "code",
   "execution_count": 8,
   "id": "9a7b4ae3",
   "metadata": {},
   "outputs": [
    {
     "ename": "SyntaxError",
     "evalue": "invalid decimal literal (2445982870.py, line 1)",
     "output_type": "error",
     "traceback": [
      "\u001b[1;36m  Cell \u001b[1;32mIn[8], line 1\u001b[1;36m\u001b[0m\n\u001b[1;33m    2namelist=\"Sayyed\",\"Aasef\"\u001b[0m\n\u001b[1;37m    ^\u001b[0m\n\u001b[1;31mSyntaxError\u001b[0m\u001b[1;31m:\u001b[0m invalid decimal literal\n"
     ]
    }
   ],
   "source": [
    "2namelist=\"Sayyed\",\"Aasef\"\n",
    "2namelist"
   ]
  },
  {
   "cell_type": "markdown",
   "id": "519c7f85",
   "metadata": {},
   "source": [
    "### Veriables name should not start with number"
   ]
  },
  {
   "cell_type": "code",
   "execution_count": 9,
   "id": "bf3ec5af",
   "metadata": {},
   "outputs": [
    {
     "data": {
      "text/plain": [
       "('Sayyed', 'Aasef')"
      ]
     },
     "execution_count": 9,
     "metadata": {},
     "output_type": "execute_result"
    }
   ],
   "source": [
    "n2amelist=\"Sayyed\",\"Aasef\"\n",
    "n2amelist"
   ]
  },
  {
   "cell_type": "code",
   "execution_count": 10,
   "id": "cf5d8fce",
   "metadata": {},
   "outputs": [
    {
     "ename": "SyntaxError",
     "evalue": "cannot assign to expression here. Maybe you meant '==' instead of '='? (1409977084.py, line 1)",
     "output_type": "error",
     "traceback": [
      "\u001b[1;36m  Cell \u001b[1;32mIn[10], line 1\u001b[1;36m\u001b[0m\n\u001b[1;33m    name+list=\"Sayyed\",\"Aasef\"\u001b[0m\n\u001b[1;37m    ^\u001b[0m\n\u001b[1;31mSyntaxError\u001b[0m\u001b[1;31m:\u001b[0m cannot assign to expression here. Maybe you meant '==' instead of '='?\n"
     ]
    }
   ],
   "source": [
    "name+list=\"Sayyed\",\"Aasef\"\n",
    "name+list"
   ]
  },
  {
   "cell_type": "code",
   "execution_count": 11,
   "id": "b89ed88d",
   "metadata": {},
   "outputs": [
    {
     "data": {
      "text/plain": [
       "('Sayyed', 'Aasef')"
      ]
     },
     "execution_count": 11,
     "metadata": {},
     "output_type": "execute_result"
    }
   ],
   "source": [
    "name_list=\"Sayyed\",\"Aasef\"\n",
    "name_list"
   ]
  },
  {
   "cell_type": "markdown",
   "id": "c08d6974",
   "metadata": {},
   "source": [
    "### The only allowed spl.character is underscore"
   ]
  },
  {
   "cell_type": "markdown",
   "id": "b26f9d0f",
   "metadata": {},
   "source": [
    "### Veriables name should start A-Z,a-z,or underscore"
   ]
  },
  {
   "cell_type": "code",
   "execution_count": 12,
   "id": "526f7f69",
   "metadata": {},
   "outputs": [
    {
     "data": {
      "text/plain": [
       "str"
      ]
     },
     "execution_count": 12,
     "metadata": {},
     "output_type": "execute_result"
    }
   ],
   "source": [
    "name=\"ai\"\n",
    "\n",
    "type(name)"
   ]
  },
  {
   "cell_type": "code",
   "execution_count": 13,
   "id": "bc1eacbf",
   "metadata": {},
   "outputs": [
    {
     "data": {
      "text/plain": [
       "int"
      ]
     },
     "execution_count": 13,
     "metadata": {},
     "output_type": "execute_result"
    }
   ],
   "source": [
    "x=10\n",
    "type(x)"
   ]
  },
  {
   "cell_type": "code",
   "execution_count": 14,
   "id": "059f54ad",
   "metadata": {},
   "outputs": [
    {
     "data": {
      "text/plain": [
       "float"
      ]
     },
     "execution_count": 14,
     "metadata": {},
     "output_type": "execute_result"
    }
   ],
   "source": [
    "x=10.7\n",
    "type(x)"
   ]
  },
  {
   "cell_type": "code",
   "execution_count": 15,
   "id": "bee68a56",
   "metadata": {},
   "outputs": [
    {
     "data": {
      "text/plain": [
       "bool"
      ]
     },
     "execution_count": 15,
     "metadata": {},
     "output_type": "execute_result"
    }
   ],
   "source": [
    "x=True\n",
    "type(x)"
   ]
  },
  {
   "cell_type": "code",
   "execution_count": 16,
   "id": "fc19db9d",
   "metadata": {},
   "outputs": [
    {
     "data": {
      "text/plain": [
       "bool"
      ]
     },
     "execution_count": 16,
     "metadata": {},
     "output_type": "execute_result"
    }
   ],
   "source": [
    "y=False\n",
    "type(y)"
   ]
  },
  {
   "cell_type": "code",
   "execution_count": 17,
   "id": "ca469302",
   "metadata": {},
   "outputs": [
    {
     "data": {
      "text/plain": [
       "bool"
      ]
     },
     "execution_count": 17,
     "metadata": {},
     "output_type": "execute_result"
    }
   ],
   "source": [
    "y=True\n",
    "type(y)"
   ]
  },
  {
   "cell_type": "code",
   "execution_count": 18,
   "id": "ec424d36",
   "metadata": {},
   "outputs": [
    {
     "ename": "NameError",
     "evalue": "name 'false' is not defined",
     "output_type": "error",
     "traceback": [
      "\u001b[1;31m---------------------------------------------------------------------------\u001b[0m",
      "\u001b[1;31mNameError\u001b[0m                                 Traceback (most recent call last)",
      "Cell \u001b[1;32mIn[18], line 1\u001b[0m\n\u001b[1;32m----> 1\u001b[0m X\u001b[38;5;241m=\u001b[39m\u001b[43mfalse\u001b[49m\n\u001b[0;32m      2\u001b[0m \u001b[38;5;28mtype\u001b[39m(x)\n",
      "\u001b[1;31mNameError\u001b[0m: name 'false' is not defined"
     ]
    }
   ],
   "source": [
    "X=false\n",
    "type(x)"
   ]
  },
  {
   "cell_type": "markdown",
   "id": "e319dd1f",
   "metadata": {},
   "source": [
    "#### python is case-sensitive"
   ]
  },
  {
   "cell_type": "code",
   "execution_count": 19,
   "id": "91e66851",
   "metadata": {},
   "outputs": [
    {
     "data": {
      "text/plain": [
       "str"
      ]
     },
     "execution_count": 19,
     "metadata": {},
     "output_type": "execute_result"
    }
   ],
   "source": [
    "z=\"True\"\n",
    "type(z)"
   ]
  },
  {
   "cell_type": "code",
   "execution_count": 20,
   "id": "14a3e726",
   "metadata": {},
   "outputs": [
    {
     "data": {
      "text/plain": [
       "str"
      ]
     },
     "execution_count": 20,
     "metadata": {},
     "output_type": "execute_result"
    }
   ],
   "source": [
    "z='True'\n",
    "type(z)"
   ]
  },
  {
   "cell_type": "markdown",
   "id": "d57f5ae8",
   "metadata": {},
   "source": [
    "#### Implicit conversion"
   ]
  },
  {
   "cell_type": "code",
   "execution_count": 21,
   "id": "02829cb2",
   "metadata": {},
   "outputs": [
    {
     "data": {
      "text/plain": [
       "5.0"
      ]
     },
     "execution_count": 21,
     "metadata": {},
     "output_type": "execute_result"
    }
   ],
   "source": [
    "x=10\n",
    "y=2\n",
    "x/y"
   ]
  },
  {
   "cell_type": "code",
   "execution_count": 22,
   "id": "e2624079",
   "metadata": {},
   "outputs": [
    {
     "ename": "TypeError",
     "evalue": "unsupported operand type(s) for +: 'int' and 'str'",
     "output_type": "error",
     "traceback": [
      "\u001b[1;31m---------------------------------------------------------------------------\u001b[0m",
      "\u001b[1;31mTypeError\u001b[0m                                 Traceback (most recent call last)",
      "Cell \u001b[1;32mIn[22], line 3\u001b[0m\n\u001b[0;32m      1\u001b[0m x\u001b[38;5;241m=\u001b[39m\u001b[38;5;241m10\u001b[39m\n\u001b[0;32m      2\u001b[0m y\u001b[38;5;241m=\u001b[39m\u001b[38;5;124m'\u001b[39m\u001b[38;5;124mds\u001b[39m\u001b[38;5;124m'\u001b[39m\n\u001b[1;32m----> 3\u001b[0m \u001b[43mx\u001b[49m\u001b[38;5;241;43m+\u001b[39;49m\u001b[43my\u001b[49m\n",
      "\u001b[1;31mTypeError\u001b[0m: unsupported operand type(s) for +: 'int' and 'str'"
     ]
    }
   ],
   "source": [
    "x=10\n",
    "y='ds'\n",
    "x+y"
   ]
  },
  {
   "cell_type": "code",
   "execution_count": 23,
   "id": "e0bf4d44",
   "metadata": {},
   "outputs": [
    {
     "data": {
      "text/plain": [
       "20.5"
      ]
     },
     "execution_count": 23,
     "metadata": {},
     "output_type": "execute_result"
    }
   ],
   "source": [
    "x=10.5\n",
    "y=10\n",
    "x+y"
   ]
  },
  {
   "cell_type": "code",
   "execution_count": 24,
   "id": "6c0f40b6",
   "metadata": {},
   "outputs": [
    {
     "data": {
      "text/plain": [
       "20.5"
      ]
     },
     "execution_count": 24,
     "metadata": {},
     "output_type": "execute_result"
    }
   ],
   "source": [
    "x=10.5\n",
    "y='10'\n",
    "x+int(y)"
   ]
  },
  {
   "cell_type": "code",
   "execution_count": 25,
   "id": "1ccc7214",
   "metadata": {},
   "outputs": [
    {
     "data": {
      "text/plain": [
       "'dsda'"
      ]
     },
     "execution_count": 25,
     "metadata": {},
     "output_type": "execute_result"
    }
   ],
   "source": [
    "x='ds'\n",
    "y='da'\n",
    "x+y"
   ]
  },
  {
   "cell_type": "code",
   "execution_count": 26,
   "id": "15292327",
   "metadata": {},
   "outputs": [
    {
     "data": {
      "text/plain": [
       "20.4"
      ]
     },
     "execution_count": 26,
     "metadata": {},
     "output_type": "execute_result"
    }
   ],
   "source": [
    "x=10\n",
    "y=10.4\n",
    "x+y"
   ]
  },
  {
   "cell_type": "code",
   "execution_count": 27,
   "id": "4951d3bf",
   "metadata": {},
   "outputs": [
    {
     "ename": "SyntaxError",
     "evalue": "invalid syntax (48553925.py, line 1)",
     "output_type": "error",
     "traceback": [
      "\u001b[1;36m  Cell \u001b[1;32mIn[27], line 1\u001b[1;36m\u001b[0m\n\u001b[1;33m    int->float\u001b[0m\n\u001b[1;37m       ^\u001b[0m\n\u001b[1;31mSyntaxError\u001b[0m\u001b[1;31m:\u001b[0m invalid syntax\n"
     ]
    }
   ],
   "source": [
    "int->float\n",
    "int->string\n",
    "float->int\n",
    "float->str\n",
    "str->int\n",
    "str->float"
   ]
  },
  {
   "cell_type": "code",
   "execution_count": 28,
   "id": "79a41bf5",
   "metadata": {},
   "outputs": [
    {
     "ename": "ValueError",
     "evalue": "invalid literal for int() with base 10: 'hi'",
     "output_type": "error",
     "traceback": [
      "\u001b[1;31m---------------------------------------------------------------------------\u001b[0m",
      "\u001b[1;31mValueError\u001b[0m                                Traceback (most recent call last)",
      "Cell \u001b[1;32mIn[28], line 2\u001b[0m\n\u001b[0;32m      1\u001b[0m x\u001b[38;5;241m=\u001b[39m\u001b[38;5;124m'\u001b[39m\u001b[38;5;124mhi\u001b[39m\u001b[38;5;124m'\u001b[39m\n\u001b[1;32m----> 2\u001b[0m \u001b[38;5;28;43mint\u001b[39;49m\u001b[43m(\u001b[49m\u001b[43mx\u001b[49m\u001b[43m)\u001b[49m\n",
      "\u001b[1;31mValueError\u001b[0m: invalid literal for int() with base 10: 'hi'"
     ]
    }
   ],
   "source": [
    "x='hi'\n",
    "int(x)"
   ]
  },
  {
   "cell_type": "code",
   "execution_count": 29,
   "id": "b74c2496",
   "metadata": {},
   "outputs": [
    {
     "ename": "ValueError",
     "evalue": "could not convert string to float: 'hi'",
     "output_type": "error",
     "traceback": [
      "\u001b[1;31m---------------------------------------------------------------------------\u001b[0m",
      "\u001b[1;31mValueError\u001b[0m                                Traceback (most recent call last)",
      "Cell \u001b[1;32mIn[29], line 2\u001b[0m\n\u001b[0;32m      1\u001b[0m x\u001b[38;5;241m=\u001b[39m\u001b[38;5;124m'\u001b[39m\u001b[38;5;124mhi\u001b[39m\u001b[38;5;124m'\u001b[39m\n\u001b[1;32m----> 2\u001b[0m \u001b[38;5;28;43mfloat\u001b[39;49m\u001b[43m(\u001b[49m\u001b[43mx\u001b[49m\u001b[43m)\u001b[49m\n",
      "\u001b[1;31mValueError\u001b[0m: could not convert string to float: 'hi'"
     ]
    }
   ],
   "source": [
    "x='hi'\n",
    "float(x)"
   ]
  },
  {
   "cell_type": "markdown",
   "id": "2eda2a74",
   "metadata": {},
   "source": [
    "### Day-2 (03/06/2023)"
   ]
  },
  {
   "cell_type": "markdown",
   "id": "4e59c655",
   "metadata": {},
   "source": [
    "#### oprators"
   ]
  },
  {
   "cell_type": "markdown",
   "id": "63c53070",
   "metadata": {},
   "source": [
    "#### Arithmetic oprators"
   ]
  },
  {
   "cell_type": "code",
   "execution_count": 30,
   "id": "92e1e059",
   "metadata": {
    "scrolled": true
   },
   "outputs": [
    {
     "name": "stdout",
     "output_type": "stream",
     "text": [
      "22\n"
     ]
    },
    {
     "data": {
      "text/plain": [
       "int"
      ]
     },
     "execution_count": 30,
     "metadata": {},
     "output_type": "execute_result"
    }
   ],
   "source": [
    "x=10\n",
    "y=12\n",
    "z=x+y\n",
    "print(z)\n",
    "type(z)"
   ]
  },
  {
   "cell_type": "code",
   "execution_count": 31,
   "id": "8429a12b",
   "metadata": {},
   "outputs": [
    {
     "name": "stdout",
     "output_type": "stream",
     "text": [
      "-2\n"
     ]
    },
    {
     "data": {
      "text/plain": [
       "int"
      ]
     },
     "execution_count": 31,
     "metadata": {},
     "output_type": "execute_result"
    }
   ],
   "source": [
    "x=10\n",
    "y=12\n",
    "z=x-y\n",
    "print(z)\n",
    "type(z)"
   ]
  },
  {
   "cell_type": "code",
   "execution_count": 32,
   "id": "39e1e4b6",
   "metadata": {},
   "outputs": [
    {
     "data": {
      "text/plain": [
       "'sayyedaasef'"
      ]
     },
     "execution_count": 32,
     "metadata": {},
     "output_type": "execute_result"
    }
   ],
   "source": [
    "first_name=\"sayyed\"\n",
    "second_name=\"aasef\"\n",
    "full_name=first_name+second_name\n",
    "full_name"
   ]
  },
  {
   "cell_type": "code",
   "execution_count": 33,
   "id": "4cb43089",
   "metadata": {},
   "outputs": [
    {
     "data": {
      "text/plain": [
       "'Age is 22'"
      ]
     },
     "execution_count": 33,
     "metadata": {},
     "output_type": "execute_result"
    }
   ],
   "source": [
    "text=\"Age is \"\n",
    "age=\"22\"\n",
    "combine=text+age\n",
    "combine"
   ]
  },
  {
   "cell_type": "code",
   "execution_count": 34,
   "id": "5f7d0690",
   "metadata": {},
   "outputs": [
    {
     "name": "stdout",
     "output_type": "stream",
     "text": [
      "120\n"
     ]
    },
    {
     "data": {
      "text/plain": [
       "int"
      ]
     },
     "execution_count": 34,
     "metadata": {},
     "output_type": "execute_result"
    }
   ],
   "source": [
    "x=10\n",
    "y=12\n",
    "z=x*y\n",
    "print(z)\n",
    "type(z)"
   ]
  },
  {
   "cell_type": "code",
   "execution_count": 35,
   "id": "394b37b9",
   "metadata": {},
   "outputs": [
    {
     "ename": "TypeError",
     "evalue": "can't multiply sequence by non-int of type 'str'",
     "output_type": "error",
     "traceback": [
      "\u001b[1;31m---------------------------------------------------------------------------\u001b[0m",
      "\u001b[1;31mTypeError\u001b[0m                                 Traceback (most recent call last)",
      "Cell \u001b[1;32mIn[35], line 3\u001b[0m\n\u001b[0;32m      1\u001b[0m value\u001b[38;5;241m=\u001b[39m\u001b[38;5;124m\"\u001b[39m\u001b[38;5;124mai\u001b[39m\u001b[38;5;124m\"\u001b[39m\n\u001b[0;32m      2\u001b[0m count\u001b[38;5;241m=\u001b[39m\u001b[38;5;124m\"\u001b[39m\u001b[38;5;124m3\u001b[39m\u001b[38;5;124m\"\u001b[39m\n\u001b[1;32m----> 3\u001b[0m result\u001b[38;5;241m=\u001b[39m\u001b[43mvalue\u001b[49m\u001b[38;5;241;43m*\u001b[39;49m\u001b[43mcount\u001b[49m\n\u001b[0;32m      4\u001b[0m result\n",
      "\u001b[1;31mTypeError\u001b[0m: can't multiply sequence by non-int of type 'str'"
     ]
    }
   ],
   "source": [
    "value=\"ai\"\n",
    "count=\"3\"\n",
    "result=value*count\n",
    "result"
   ]
  },
  {
   "cell_type": "code",
   "execution_count": 36,
   "id": "c637d431",
   "metadata": {},
   "outputs": [
    {
     "name": "stdout",
     "output_type": "stream",
     "text": [
      "0.8333333333333334\n"
     ]
    },
    {
     "data": {
      "text/plain": [
       "float"
      ]
     },
     "execution_count": 36,
     "metadata": {},
     "output_type": "execute_result"
    }
   ],
   "source": [
    "x=10\n",
    "y=12\n",
    "z=x/y\n",
    "print(z)\n",
    "type(z)"
   ]
  },
  {
   "cell_type": "code",
   "execution_count": 37,
   "id": "34f88f77",
   "metadata": {},
   "outputs": [
    {
     "name": "stdout",
     "output_type": "stream",
     "text": [
      "1\n"
     ]
    },
    {
     "data": {
      "text/plain": [
       "int"
      ]
     },
     "execution_count": 37,
     "metadata": {},
     "output_type": "execute_result"
    }
   ],
   "source": [
    "x=37\n",
    "y=6\n",
    "z=x%y\n",
    "print(z)\n",
    "type(z)"
   ]
  },
  {
   "cell_type": "code",
   "execution_count": 38,
   "id": "499bb0fd",
   "metadata": {},
   "outputs": [
    {
     "name": "stdout",
     "output_type": "stream",
     "text": [
      "1\n"
     ]
    },
    {
     "data": {
      "text/plain": [
       "int"
      ]
     },
     "execution_count": 38,
     "metadata": {},
     "output_type": "execute_result"
    }
   ],
   "source": [
    "x=29\n",
    "y=7\n",
    "z=x%y\n",
    "print(z)\n",
    "type(z)"
   ]
  },
  {
   "cell_type": "code",
   "execution_count": 39,
   "id": "b6caf84f",
   "metadata": {},
   "outputs": [
    {
     "name": "stdout",
     "output_type": "stream",
     "text": [
      "2\n"
     ]
    },
    {
     "data": {
      "text/plain": [
       "int"
      ]
     },
     "execution_count": 39,
     "metadata": {},
     "output_type": "execute_result"
    }
   ],
   "source": [
    "x=34\n",
    "y=8\n",
    "z=x%y\n",
    "print(z)\n",
    "type(z)"
   ]
  },
  {
   "cell_type": "code",
   "execution_count": 40,
   "id": "33d98eba",
   "metadata": {},
   "outputs": [
    {
     "name": "stdout",
     "output_type": "stream",
     "text": [
      "4\n"
     ]
    },
    {
     "data": {
      "text/plain": [
       "int"
      ]
     },
     "execution_count": 40,
     "metadata": {},
     "output_type": "execute_result"
    }
   ],
   "source": [
    "x=4\n",
    "y=56\n",
    "z=x%y\n",
    "print(z)\n",
    "type(z)"
   ]
  },
  {
   "cell_type": "code",
   "execution_count": 41,
   "id": "02f94c12",
   "metadata": {},
   "outputs": [
    {
     "name": "stdout",
     "output_type": "stream",
     "text": [
      "3\n"
     ]
    },
    {
     "data": {
      "text/plain": [
       "int"
      ]
     },
     "execution_count": 41,
     "metadata": {},
     "output_type": "execute_result"
    }
   ],
   "source": [
    "x=3\n",
    "y=67\n",
    "z=x%y\n",
    "print(z)\n",
    "type(z)"
   ]
  },
  {
   "cell_type": "markdown",
   "id": "566a6a7c",
   "metadata": {},
   "source": [
    "#### Modulus > Numerator > Denominator it returns reminders else it returs x"
   ]
  },
  {
   "cell_type": "code",
   "execution_count": 42,
   "id": "acb0912f",
   "metadata": {},
   "outputs": [
    {
     "name": "stdout",
     "output_type": "stream",
     "text": [
      "6\n"
     ]
    },
    {
     "data": {
      "text/plain": [
       "int"
      ]
     },
     "execution_count": 42,
     "metadata": {},
     "output_type": "execute_result"
    }
   ],
   "source": [
    "x=27\n",
    "y=4\n",
    "z=x//y\n",
    "print(z)\n",
    "type(z)"
   ]
  },
  {
   "cell_type": "code",
   "execution_count": 43,
   "id": "9723cd21",
   "metadata": {},
   "outputs": [
    {
     "name": "stdout",
     "output_type": "stream",
     "text": [
      "4\n"
     ]
    },
    {
     "data": {
      "text/plain": [
       "int"
      ]
     },
     "execution_count": 43,
     "metadata": {},
     "output_type": "execute_result"
    }
   ],
   "source": [
    "x=4\n",
    "y=27\n",
    "z=x%y\n",
    "print(z)\n",
    "type(z)"
   ]
  },
  {
   "cell_type": "code",
   "execution_count": 44,
   "id": "93156b2c",
   "metadata": {},
   "outputs": [
    {
     "name": "stdout",
     "output_type": "stream",
     "text": [
      "0\n"
     ]
    },
    {
     "data": {
      "text/plain": [
       "int"
      ]
     },
     "execution_count": 44,
     "metadata": {},
     "output_type": "execute_result"
    }
   ],
   "source": [
    "x=30\n",
    "y=30\n",
    "z=x%y\n",
    "print(z)\n",
    "type(z)"
   ]
  },
  {
   "cell_type": "code",
   "execution_count": 45,
   "id": "92f1045f",
   "metadata": {},
   "outputs": [
    {
     "name": "stdout",
     "output_type": "stream",
     "text": [
      "6\n"
     ]
    },
    {
     "data": {
      "text/plain": [
       "int"
      ]
     },
     "execution_count": 45,
     "metadata": {},
     "output_type": "execute_result"
    }
   ],
   "source": [
    "x=6\n",
    "y=27\n",
    "z=x%y\n",
    "print(z)\n",
    "type(z)"
   ]
  },
  {
   "cell_type": "markdown",
   "id": "00cec2b9",
   "metadata": {},
   "source": [
    "#### Floor Division -> Numerator > Denominator it returns Quotient else it returns 0"
   ]
  },
  {
   "cell_type": "code",
   "execution_count": 46,
   "id": "ed1abb7b",
   "metadata": {},
   "outputs": [
    {
     "data": {
      "text/plain": [
       "1023490369077469249536"
      ]
     },
     "execution_count": 46,
     "metadata": {},
     "output_type": "execute_result"
    }
   ],
   "source": [
    "x=6\n",
    "y=27\n",
    "z=x**y\n",
    "z"
   ]
  },
  {
   "cell_type": "code",
   "execution_count": 47,
   "id": "57566b51",
   "metadata": {},
   "outputs": [
    {
     "data": {
      "text/plain": [
       "32"
      ]
     },
     "execution_count": 47,
     "metadata": {},
     "output_type": "execute_result"
    }
   ],
   "source": [
    "x=2\n",
    "y=5\n",
    "z=x**y\n",
    "z"
   ]
  },
  {
   "cell_type": "markdown",
   "id": "84c13e13",
   "metadata": {},
   "source": [
    "#### Relational Operators"
   ]
  },
  {
   "cell_type": "code",
   "execution_count": 48,
   "id": "f0665c02",
   "metadata": {},
   "outputs": [
    {
     "data": {
      "text/plain": [
       "True"
      ]
     },
     "execution_count": 48,
     "metadata": {},
     "output_type": "execute_result"
    }
   ],
   "source": [
    "x=10\n",
    "y=20\n",
    "x<y"
   ]
  },
  {
   "cell_type": "code",
   "execution_count": 49,
   "id": "832cb2ea",
   "metadata": {},
   "outputs": [
    {
     "data": {
      "text/plain": [
       "False"
      ]
     },
     "execution_count": 49,
     "metadata": {},
     "output_type": "execute_result"
    }
   ],
   "source": [
    "x=10\n",
    "y=20\n",
    "x>y"
   ]
  },
  {
   "cell_type": "code",
   "execution_count": 52,
   "id": "e054c787",
   "metadata": {},
   "outputs": [],
   "source": [
    "x=10\n",
    "y=20\n",
    "x=y"
   ]
  },
  {
   "cell_type": "code",
   "execution_count": 51,
   "id": "d2ed46b2",
   "metadata": {},
   "outputs": [
    {
     "data": {
      "text/plain": [
       "True"
      ]
     },
     "execution_count": 51,
     "metadata": {},
     "output_type": "execute_result"
    }
   ],
   "source": [
    "x=10\n",
    "y=20\n",
    "x!=y"
   ]
  },
  {
   "cell_type": "code",
   "execution_count": 53,
   "id": "cf170ea5",
   "metadata": {},
   "outputs": [
    {
     "data": {
      "text/plain": [
       "False"
      ]
     },
     "execution_count": 53,
     "metadata": {},
     "output_type": "execute_result"
    }
   ],
   "source": [
    "x=10\n",
    "y=20\n",
    "x>=y"
   ]
  },
  {
   "cell_type": "code",
   "execution_count": 54,
   "id": "69451273",
   "metadata": {},
   "outputs": [
    {
     "data": {
      "text/plain": [
       "True"
      ]
     },
     "execution_count": 54,
     "metadata": {},
     "output_type": "execute_result"
    }
   ],
   "source": [
    "x=10\n",
    "y=20\n",
    "x<=y"
   ]
  },
  {
   "cell_type": "markdown",
   "id": "93f40af8",
   "metadata": {},
   "source": [
    "#### Logical Operators"
   ]
  },
  {
   "cell_type": "code",
   "execution_count": 55,
   "id": "65ca50da",
   "metadata": {},
   "outputs": [],
   "source": [
    "is_student=True\n",
    "in_college=True\n",
    "in_school=False"
   ]
  },
  {
   "cell_type": "code",
   "execution_count": 56,
   "id": "8fdc2648",
   "metadata": {},
   "outputs": [
    {
     "data": {
      "text/plain": [
       "True"
      ]
     },
     "execution_count": 56,
     "metadata": {},
     "output_type": "execute_result"
    }
   ],
   "source": [
    "is_student and in_college"
   ]
  },
  {
   "cell_type": "code",
   "execution_count": 57,
   "id": "23e2a1c1",
   "metadata": {},
   "outputs": [
    {
     "data": {
      "text/plain": [
       "False"
      ]
     },
     "execution_count": 57,
     "metadata": {},
     "output_type": "execute_result"
    }
   ],
   "source": [
    "is_student and in_school"
   ]
  },
  {
   "cell_type": "code",
   "execution_count": 58,
   "id": "a7d913ca",
   "metadata": {},
   "outputs": [
    {
     "data": {
      "text/plain": [
       "True"
      ]
     },
     "execution_count": 58,
     "metadata": {},
     "output_type": "execute_result"
    }
   ],
   "source": [
    "is_student and in_college"
   ]
  },
  {
   "cell_type": "code",
   "execution_count": 59,
   "id": "2e400b24",
   "metadata": {},
   "outputs": [
    {
     "data": {
      "text/plain": [
       "True"
      ]
     },
     "execution_count": 59,
     "metadata": {},
     "output_type": "execute_result"
    }
   ],
   "source": [
    "is_student or in_college"
   ]
  },
  {
   "cell_type": "code",
   "execution_count": 60,
   "id": "81da4ebb",
   "metadata": {},
   "outputs": [
    {
     "data": {
      "text/plain": [
       "True"
      ]
     },
     "execution_count": 60,
     "metadata": {},
     "output_type": "execute_result"
    }
   ],
   "source": [
    "is_student or in_school"
   ]
  },
  {
   "cell_type": "code",
   "execution_count": 61,
   "id": "5d46f7c8",
   "metadata": {},
   "outputs": [
    {
     "data": {
      "text/plain": [
       "True"
      ]
     },
     "execution_count": 61,
     "metadata": {},
     "output_type": "execute_result"
    }
   ],
   "source": [
    "not(in_school)"
   ]
  },
  {
   "cell_type": "code",
   "execution_count": 62,
   "id": "bb15218b",
   "metadata": {},
   "outputs": [
    {
     "data": {
      "text/plain": [
       "False"
      ]
     },
     "execution_count": 62,
     "metadata": {},
     "output_type": "execute_result"
    }
   ],
   "source": [
    "not(in_college)"
   ]
  },
  {
   "cell_type": "markdown",
   "id": "bf6f4104",
   "metadata": {},
   "source": [
    "#### Membership Operator"
   ]
  },
  {
   "cell_type": "code",
   "execution_count": 63,
   "id": "02b7efd1",
   "metadata": {},
   "outputs": [
    {
     "name": "stdout",
     "output_type": "stream",
     "text": [
      "True\n"
     ]
    }
   ],
   "source": [
    "vowels=\"aeiou\"\n",
    "print(\"u\" in vowels)"
   ]
  },
  {
   "cell_type": "code",
   "execution_count": 64,
   "id": "fb238ee0",
   "metadata": {},
   "outputs": [
    {
     "name": "stdout",
     "output_type": "stream",
     "text": [
      "False\n"
     ]
    }
   ],
   "source": [
    "print(\"l\" in vowels)"
   ]
  },
  {
   "cell_type": "code",
   "execution_count": 65,
   "id": "dbf8e4ac",
   "metadata": {},
   "outputs": [
    {
     "name": "stdout",
     "output_type": "stream",
     "text": [
      "False\n"
     ]
    }
   ],
   "source": [
    "print(\"u\"not in vowels)"
   ]
  },
  {
   "cell_type": "markdown",
   "id": "a3cb6e16",
   "metadata": {},
   "source": [
    "#### Assignment Operator"
   ]
  },
  {
   "cell_type": "code",
   "execution_count": 66,
   "id": "7aa18121",
   "metadata": {},
   "outputs": [
    {
     "ename": "SyntaxError",
     "evalue": "invalid syntax (2151731264.py, line 1)",
     "output_type": "error",
     "traceback": [
      "\u001b[1;36m  Cell \u001b[1;32mIn[66], line 1\u001b[1;36m\u001b[0m\n\u001b[1;33m    a+=b -> a=a+b\u001b[0m\n\u001b[1;37m         ^\u001b[0m\n\u001b[1;31mSyntaxError\u001b[0m\u001b[1;31m:\u001b[0m invalid syntax\n"
     ]
    }
   ],
   "source": [
    "a+=b -> a=a+b"
   ]
  },
  {
   "cell_type": "code",
   "execution_count": 67,
   "id": "2eeed67c",
   "metadata": {},
   "outputs": [
    {
     "data": {
      "text/plain": [
       "11"
      ]
     },
     "execution_count": 67,
     "metadata": {},
     "output_type": "execute_result"
    }
   ],
   "source": [
    "a=5\n",
    "b=6\n",
    "a=a+b\n",
    "a"
   ]
  },
  {
   "cell_type": "code",
   "execution_count": 68,
   "id": "4352b580",
   "metadata": {},
   "outputs": [
    {
     "data": {
      "text/plain": [
       "11"
      ]
     },
     "execution_count": 68,
     "metadata": {},
     "output_type": "execute_result"
    }
   ],
   "source": [
    "a=5\n",
    "b=6\n",
    "a+=b\n",
    "a"
   ]
  },
  {
   "cell_type": "code",
   "execution_count": 69,
   "id": "0c3775e3",
   "metadata": {},
   "outputs": [
    {
     "data": {
      "text/plain": [
       "-1"
      ]
     },
     "execution_count": 69,
     "metadata": {},
     "output_type": "execute_result"
    }
   ],
   "source": [
    "a=5\n",
    "b=6\n",
    "a-=b\n",
    "a"
   ]
  },
  {
   "cell_type": "code",
   "execution_count": 70,
   "id": "1c5a584a",
   "metadata": {},
   "outputs": [
    {
     "data": {
      "text/plain": [
       "30"
      ]
     },
     "execution_count": 70,
     "metadata": {},
     "output_type": "execute_result"
    }
   ],
   "source": [
    "a=5\n",
    "b=6\n",
    "a*=b\n",
    "a"
   ]
  },
  {
   "cell_type": "code",
   "execution_count": 71,
   "id": "9109e18e",
   "metadata": {},
   "outputs": [
    {
     "data": {
      "text/plain": [
       "0.8333333333333334"
      ]
     },
     "execution_count": 71,
     "metadata": {},
     "output_type": "execute_result"
    }
   ],
   "source": [
    "a=5\n",
    "b=6\n",
    "a/=b\n",
    "a"
   ]
  },
  {
   "cell_type": "markdown",
   "id": "b687f938",
   "metadata": {},
   "source": [
    "#### Conditional Statements"
   ]
  },
  {
   "cell_type": "code",
   "execution_count": 72,
   "id": "f3d8debf",
   "metadata": {},
   "outputs": [
    {
     "name": "stdout",
     "output_type": "stream",
     "text": [
      "5 num is greater than zero\n"
     ]
    }
   ],
   "source": [
    "num=5\n",
    "if(num>0):\n",
    "    print(num,\"num is greater than zero\")"
   ]
  },
  {
   "cell_type": "code",
   "execution_count": 73,
   "id": "fb61a521",
   "metadata": {},
   "outputs": [],
   "source": [
    "num=5\n",
    "if(num<0):\n",
    "    print(num,\"num is greater than zero\")"
   ]
  },
  {
   "cell_type": "markdown",
   "id": "ef9822cb",
   "metadata": {},
   "source": [
    "### not getting the output"
   ]
  },
  {
   "cell_type": "code",
   "execution_count": 74,
   "id": "94e8ec08",
   "metadata": {},
   "outputs": [
    {
     "name": "stdout",
     "output_type": "stream",
     "text": [
      "-5 num is lesser than zero\n"
     ]
    }
   ],
   "source": [
    "num=-5\n",
    "if(num>0):\n",
    "    print(num,\"num is greater than zero\")\n",
    "else:\n",
    "    print(num,\"num is lesser than zero\")"
   ]
  },
  {
   "cell_type": "code",
   "execution_count": 75,
   "id": "7594da35",
   "metadata": {},
   "outputs": [
    {
     "name": "stdout",
     "output_type": "stream",
     "text": [
      "Enter age: 30\n",
      "Bus fares is 30\n"
     ]
    }
   ],
   "source": [
    "age=int(input(\"Enter age: \"))\n",
    "if (0>age>3):\n",
    "    print(\"no fares for age group\")\n",
    "elif(3>age>10):\n",
    "    print(\"Bus fares is 10\")\n",
    "elif(10<age<20):\n",
    "    print(\"Bus fares is 20\")\n",
    "else:\n",
    "    print(\"Bus fares is 30\")\n",
    "    \n",
    "\n"
   ]
  },
  {
   "cell_type": "code",
   "execution_count": 76,
   "id": "a088f5d7",
   "metadata": {},
   "outputs": [
    {
     "name": "stdout",
     "output_type": "stream",
     "text": [
      "Enter age: 2\n",
      "Bus fares is 30\n"
     ]
    }
   ],
   "source": [
    "age=int(input(\"Enter age: \"))\n",
    "if (0>age>3):\n",
    "    print(\"no fares for age group\")\n",
    "elif(3>age>10):\n",
    "    print(\"Bus fares is 10\")\n",
    "elif(10<age<20):\n",
    "    print(\"Bus fares is 20\")\n",
    "else:\n",
    "    print(\"Bus fares is 30\")\n",
    "    "
   ]
  },
  {
   "cell_type": "code",
   "execution_count": 77,
   "id": "397c735e",
   "metadata": {},
   "outputs": [
    {
     "name": "stdout",
     "output_type": "stream",
     "text": [
      "Enter age: 8\n",
      "Bus fares is 30\n"
     ]
    }
   ],
   "source": [
    "age=int(input(\"Enter age: \"))\n",
    "if (0>age>3):\n",
    "    print(\"no fares for age group\")\n",
    "elif(3>age>10):\n",
    "    print(\"Bus fares is 10\")\n",
    "elif(10<age<20):\n",
    "    print(\"Bus fares is 20\")\n",
    "else:\n",
    "    print(\"Bus fares is 30\")\n",
    "    "
   ]
  },
  {
   "cell_type": "code",
   "execution_count": 78,
   "id": "42d7f118",
   "metadata": {},
   "outputs": [
    {
     "name": "stdout",
     "output_type": "stream",
     "text": [
      "Enter age: 7\n",
      "Bus fares is 30\n"
     ]
    }
   ],
   "source": [
    "age=int(input(\"Enter age: \"))\n",
    "if (0>age>3):\n",
    "    print(\"no fares for age group\")\n",
    "elif(3>age>10):\n",
    "    print(\"Bus fares is 10\")\n",
    "elif(10<age<20):\n",
    "    print(\"Bus fares is 20\")\n",
    "else:\n",
    "    print(\"Bus fares is 30\")\n",
    "    "
   ]
  },
  {
   "cell_type": "code",
   "execution_count": 79,
   "id": "b3dfb852",
   "metadata": {},
   "outputs": [
    {
     "name": "stdout",
     "output_type": "stream",
     "text": [
      "Enter age: 80\n",
      "Bus fares is 30\n"
     ]
    }
   ],
   "source": [
    "age=int(input(\"Enter age: \"))\n",
    "if (0>age>3):\n",
    "    print(\"no fares for age group\")\n",
    "elif(3>age>10):\n",
    "    print(\"Bus fares is 10\")\n",
    "elif(10<age<20):\n",
    "    print(\"Bus fares is 20\")\n",
    "else:\n",
    "    print(\"Bus fares is 30\")\n",
    "    "
   ]
  },
  {
   "cell_type": "code",
   "execution_count": null,
   "id": "39b415d8",
   "metadata": {},
   "outputs": [],
   "source": [
    "###  if elif else -> programe"
   ]
  },
  {
   "cell_type": "code",
   "execution_count": 80,
   "id": "f084df2d",
   "metadata": {},
   "outputs": [
    {
     "name": "stdout",
     "output_type": "stream",
     "text": [
      "100 Is Greater\n"
     ]
    }
   ],
   "source": [
    "n1=100\n",
    "n2=2\n",
    "n3=300\n",
    "if(n1>n2):\n",
    "    print(n1,\"Is Greater\")\n",
    "else:\n",
    "    if(n3>n2):\n",
    "        print(n3,\"Is Greater\")\n",
    "    else:\n",
    "        print(n2,\"Is Greater\")\n",
    "        \n",
    "    "
   ]
  },
  {
   "cell_type": "code",
   "execution_count": 82,
   "id": "104b9d49",
   "metadata": {},
   "outputs": [
    {
     "name": "stdout",
     "output_type": "stream",
     "text": [
      "Enter user id: sayyedaasef\n",
      "password: 251001\n",
      "password accepted.Logged in\n"
     ]
    }
   ],
   "source": [
    "# programe to check user id and password\n",
    "user_id = input(\"Enter user id: \")\n",
    "password = input(\"password: \")\n",
    "if(user_id == \"sayyedaasef\"):\n",
    "    if(password == \"251001\"):\n",
    "        print(\"password accepted.Logged in\")\n",
    "    else:\n",
    "        print(\"wrong password.please enter correct password\")"
   ]
  },
  {
   "cell_type": "markdown",
   "id": "527fbac7",
   "metadata": {},
   "source": [
    "#### Day-3"
   ]
  },
  {
   "cell_type": "markdown",
   "id": "527c818d",
   "metadata": {},
   "source": [
    "#### strings"
   ]
  },
  {
   "cell_type": "code",
   "execution_count": 101,
   "id": "88298551",
   "metadata": {},
   "outputs": [
    {
     "name": "stdout",
     "output_type": "stream",
     "text": [
      "aasef\n"
     ]
    },
    {
     "data": {
      "text/plain": [
       "str"
      ]
     },
     "execution_count": 101,
     "metadata": {},
     "output_type": "execute_result"
    }
   ],
   "source": [
    "name=\"aasef\"\n",
    "print(name)\n",
    "type(name)"
   ]
  },
  {
   "cell_type": "code",
   "execution_count": 83,
   "id": "de81717f",
   "metadata": {},
   "outputs": [],
   "source": [
    "text=\"i love python\""
   ]
  },
  {
   "cell_type": "code",
   "execution_count": 84,
   "id": "310e1a84",
   "metadata": {},
   "outputs": [
    {
     "data": {
      "text/plain": [
       "'i'"
      ]
     },
     "execution_count": 84,
     "metadata": {},
     "output_type": "execute_result"
    }
   ],
   "source": [
    "text[0]"
   ]
  },
  {
   "cell_type": "code",
   "execution_count": 85,
   "id": "f8230976",
   "metadata": {},
   "outputs": [
    {
     "data": {
      "text/plain": [
       "'l'"
      ]
     },
     "execution_count": 85,
     "metadata": {},
     "output_type": "execute_result"
    }
   ],
   "source": [
    "text[2]"
   ]
  },
  {
   "cell_type": "code",
   "execution_count": 86,
   "id": "351aa0fe",
   "metadata": {},
   "outputs": [
    {
     "data": {
      "text/plain": [
       "'n'"
      ]
     },
     "execution_count": 86,
     "metadata": {},
     "output_type": "execute_result"
    }
   ],
   "source": [
    "text[-1]"
   ]
  },
  {
   "cell_type": "code",
   "execution_count": 87,
   "id": "cdd01aab",
   "metadata": {},
   "outputs": [
    {
     "data": {
      "text/plain": [
       "'h'"
      ]
     },
     "execution_count": 87,
     "metadata": {},
     "output_type": "execute_result"
    }
   ],
   "source": [
    "text[-3]"
   ]
  },
  {
   "cell_type": "code",
   "execution_count": 88,
   "id": "24d2cffc",
   "metadata": {},
   "outputs": [
    {
     "data": {
      "text/plain": [
       "'i love python'"
      ]
     },
     "execution_count": 88,
     "metadata": {},
     "output_type": "execute_result"
    }
   ],
   "source": [
    "text[:]"
   ]
  },
  {
   "cell_type": "code",
   "execution_count": 90,
   "id": "f74d0553",
   "metadata": {},
   "outputs": [],
   "source": [
    "### [:] It will be printing everything"
   ]
  },
  {
   "cell_type": "code",
   "execution_count": 91,
   "id": "3a3e5f0d",
   "metadata": {},
   "outputs": [
    {
     "data": {
      "text/plain": [
       "'love'"
      ]
     },
     "execution_count": 91,
     "metadata": {},
     "output_type": "execute_result"
    }
   ],
   "source": [
    "text[2:6]"
   ]
  },
  {
   "cell_type": "code",
   "execution_count": 95,
   "id": "355175f9",
   "metadata": {},
   "outputs": [],
   "source": [
    "### it will gives 2,3,4,5"
   ]
  },
  {
   "cell_type": "code",
   "execution_count": 97,
   "id": "dab754ac",
   "metadata": {},
   "outputs": [
    {
     "data": {
      "text/plain": [
       "'i love python'"
      ]
     },
     "execution_count": 97,
     "metadata": {},
     "output_type": "execute_result"
    }
   ],
   "source": [
    "text[:len(text)]"
   ]
  },
  {
   "cell_type": "code",
   "execution_count": 98,
   "id": "ee08874c",
   "metadata": {},
   "outputs": [
    {
     "data": {
      "text/plain": [
       "'love python'"
      ]
     },
     "execution_count": 98,
     "metadata": {},
     "output_type": "execute_result"
    }
   ],
   "source": [
    "text[2:]"
   ]
  },
  {
   "cell_type": "code",
   "execution_count": 99,
   "id": "b3027841",
   "metadata": {},
   "outputs": [
    {
     "data": {
      "text/plain": [
       "'nohtyp evol i'"
      ]
     },
     "execution_count": 99,
     "metadata": {},
     "output_type": "execute_result"
    }
   ],
   "source": [
    "text[::-1]"
   ]
  },
  {
   "cell_type": "code",
   "execution_count": 102,
   "id": "0e2ad9b3",
   "metadata": {},
   "outputs": [
    {
     "data": {
      "text/plain": [
       "'l'"
      ]
     },
     "execution_count": 102,
     "metadata": {},
     "output_type": "execute_result"
    }
   ],
   "source": [
    "text[2]"
   ]
  },
  {
   "cell_type": "code",
   "execution_count": 107,
   "id": "bdb7b4fc",
   "metadata": {},
   "outputs": [
    {
     "data": {
      "text/plain": [
       "'love pytho'"
      ]
     },
     "execution_count": 107,
     "metadata": {},
     "output_type": "execute_result"
    }
   ],
   "source": [
    "text[2:-1]"
   ]
  },
  {
   "cell_type": "code",
   "execution_count": 115,
   "id": "d64925fb",
   "metadata": {},
   "outputs": [
    {
     "data": {
      "text/plain": [
       "'nohtyp'"
      ]
     },
     "execution_count": 115,
     "metadata": {},
     "output_type": "execute_result"
    }
   ],
   "source": [
    "text[:-7:-1]"
   ]
  },
  {
   "cell_type": "code",
   "execution_count": 116,
   "id": "1a3fcf9f",
   "metadata": {},
   "outputs": [
    {
     "data": {
      "text/plain": [
       "'noh'"
      ]
     },
     "execution_count": 116,
     "metadata": {},
     "output_type": "execute_result"
    }
   ],
   "source": [
    "text[:-4:-1]"
   ]
  },
  {
   "cell_type": "code",
   "execution_count": 117,
   "id": "fbb02cb1",
   "metadata": {},
   "outputs": [
    {
     "data": {
      "text/plain": [
       "'l'"
      ]
     },
     "execution_count": 117,
     "metadata": {},
     "output_type": "execute_result"
    }
   ],
   "source": [
    "### reverse the string and displace the third last letter\n",
    "text[::-1] [-3]"
   ]
  },
  {
   "cell_type": "code",
   "execution_count": 118,
   "id": "d39da71e",
   "metadata": {},
   "outputs": [
    {
     "data": {
      "text/plain": [
       "'i love data science'"
      ]
     },
     "execution_count": 118,
     "metadata": {},
     "output_type": "execute_result"
    }
   ],
   "source": [
    "text.replace(\"python\",\"data science\")"
   ]
  },
  {
   "cell_type": "code",
   "execution_count": 119,
   "id": "c045efc5",
   "metadata": {},
   "outputs": [
    {
     "data": {
      "text/plain": [
       "'I LOVE PYTHON'"
      ]
     },
     "execution_count": 119,
     "metadata": {},
     "output_type": "execute_result"
    }
   ],
   "source": [
    "text.upper()"
   ]
  },
  {
   "cell_type": "code",
   "execution_count": 121,
   "id": "8a42ef2f",
   "metadata": {},
   "outputs": [
    {
     "data": {
      "text/plain": [
       "'i love python'"
      ]
     },
     "execution_count": 121,
     "metadata": {},
     "output_type": "execute_result"
    }
   ],
   "source": [
    "text.lower()"
   ]
  },
  {
   "cell_type": "code",
   "execution_count": 123,
   "id": "da8d2451",
   "metadata": {},
   "outputs": [
    {
     "data": {
      "text/plain": [
       "'I Love Python'"
      ]
     },
     "execution_count": 123,
     "metadata": {},
     "output_type": "execute_result"
    }
   ],
   "source": [
    "text.title()"
   ]
  },
  {
   "cell_type": "code",
   "execution_count": 124,
   "id": "4eb34527",
   "metadata": {},
   "outputs": [
    {
     "data": {
      "text/plain": [
       "'21/04/21'"
      ]
     },
     "execution_count": 124,
     "metadata": {},
     "output_type": "execute_result"
    }
   ],
   "source": [
    "date=\"21\",\"04\",\"21\"\n",
    "sep='/'\n",
    "sep.join(date)"
   ]
  },
  {
   "cell_type": "code",
   "execution_count": 128,
   "id": "fcd79d68",
   "metadata": {},
   "outputs": [
    {
     "data": {
      "text/plain": [
       "'python*for*data*science'"
      ]
     },
     "execution_count": 128,
     "metadata": {},
     "output_type": "execute_result"
    }
   ],
   "source": [
    "text=\"***python*for*data*science***\"\n",
    "text.strip(\"*\")"
   ]
  },
  {
   "cell_type": "markdown",
   "id": "5720f39d",
   "metadata": {},
   "source": [
    "### List"
   ]
  },
  {
   "cell_type": "code",
   "execution_count": 132,
   "id": "defb5717",
   "metadata": {},
   "outputs": [
    {
     "data": {
      "text/plain": [
       "[1, 2, 3, 4, 6, -1, 'hy', 5.7]"
      ]
     },
     "execution_count": 132,
     "metadata": {},
     "output_type": "execute_result"
    }
   ],
   "source": [
    "sample_list=[1,2,3,4,6,-1,\"hy\",5.7]\n",
    "sample_list"
   ]
  },
  {
   "cell_type": "code",
   "execution_count": 131,
   "id": "6320f3d9",
   "metadata": {},
   "outputs": [
    {
     "data": {
      "text/plain": [
       "list"
      ]
     },
     "execution_count": 131,
     "metadata": {},
     "output_type": "execute_result"
    }
   ],
   "source": [
    "type(sample_list)"
   ]
  },
  {
   "cell_type": "markdown",
   "id": "6c6da856",
   "metadata": {},
   "source": [
    "#### Elements in a list are seperated by comma and enclosed in square brackets"
   ]
  },
  {
   "cell_type": "markdown",
   "id": "1e0301a6",
   "metadata": {},
   "source": [
    "#### List is hetrogenous-> mulitiple data types"
   ]
  },
  {
   "cell_type": "markdown",
   "id": "b9789e7c",
   "metadata": {},
   "source": [
    "#### list can have duplicates"
   ]
  },
  {
   "cell_type": "code",
   "execution_count": 134,
   "id": "88015824",
   "metadata": {},
   "outputs": [
    {
     "name": "stdout",
     "output_type": "stream",
     "text": [
      "['python', 'R', 'Ds']\n"
     ]
    },
    {
     "data": {
      "text/plain": [
       "list"
      ]
     },
     "execution_count": 134,
     "metadata": {},
     "output_type": "execute_result"
    }
   ],
   "source": [
    "book_list=[\"python\",\"R\",\"Ds\"]\n",
    "print(book_list)\n",
    "type(book_list)"
   ]
  },
  {
   "cell_type": "code",
   "execution_count": 135,
   "id": "5b3ba5b0",
   "metadata": {},
   "outputs": [],
   "source": [
    "novels=[\"Lord of rings\",\"Harry Potter\",\"Esha\"]"
   ]
  },
  {
   "cell_type": "code",
   "execution_count": 137,
   "id": "16fe04d6",
   "metadata": {},
   "outputs": [
    {
     "data": {
      "text/plain": [
       "['python', 'R', 'Ds', 'Lord of rings', 'Harry Potter', 'Esha']"
      ]
     },
     "execution_count": 137,
     "metadata": {},
     "output_type": "execute_result"
    }
   ],
   "source": [
    "library=book_list+novels\n",
    "library"
   ]
  },
  {
   "cell_type": "code",
   "execution_count": 143,
   "id": "0421dfda",
   "metadata": {},
   "outputs": [],
   "source": [
    "novels.append(\"jumanji\")"
   ]
  },
  {
   "cell_type": "code",
   "execution_count": 144,
   "id": "ed2e81a9",
   "metadata": {},
   "outputs": [
    {
     "data": {
      "text/plain": [
       "['Lord of rings', 'Harry Potter', 'Esha', 'jumanji']"
      ]
     },
     "execution_count": 144,
     "metadata": {},
     "output_type": "execute_result"
    }
   ],
   "source": [
    "novels"
   ]
  },
  {
   "cell_type": "code",
   "execution_count": 145,
   "id": "c0a13fcd",
   "metadata": {},
   "outputs": [
    {
     "data": {
      "text/plain": [
       "['Lord of rings', 'Leader', 'Harry Potter', 'Esha', 'jumanji']"
      ]
     },
     "execution_count": 145,
     "metadata": {},
     "output_type": "execute_result"
    }
   ],
   "source": [
    "novels.insert(1,\"Leader\")\n",
    "novels"
   ]
  },
  {
   "cell_type": "code",
   "execution_count": 151,
   "id": "a653dfed",
   "metadata": {},
   "outputs": [],
   "source": [
    "avg_prices=[10,11,12,15,67,87]\n",
    "avg_prices.sort()"
   ]
  },
  {
   "cell_type": "code",
   "execution_count": 152,
   "id": "4d81691f",
   "metadata": {},
   "outputs": [
    {
     "data": {
      "text/plain": [
       "[10, 11, 12, 15, 67, 87]"
      ]
     },
     "execution_count": 152,
     "metadata": {},
     "output_type": "execute_result"
    }
   ],
   "source": [
    "avg_prices"
   ]
  },
  {
   "cell_type": "code",
   "execution_count": 153,
   "id": "cd88be15",
   "metadata": {},
   "outputs": [
    {
     "data": {
      "text/plain": [
       "[10, 11, 12, 15, 67, 87]"
      ]
     },
     "execution_count": 153,
     "metadata": {},
     "output_type": "execute_result"
    }
   ],
   "source": [
    "avg_prices_sorted=sorted(avg_prices)\n",
    "avg_prices_sorted"
   ]
  },
  {
   "cell_type": "code",
   "execution_count": 154,
   "id": "527931a4",
   "metadata": {},
   "outputs": [],
   "source": [
    "prod=[\"mango\",\"apple\",\"banana\"]"
   ]
  },
  {
   "cell_type": "code",
   "execution_count": 155,
   "id": "26a6bd7f",
   "metadata": {},
   "outputs": [
    {
     "data": {
      "text/plain": [
       "['mango', 'apple', 'banana']"
      ]
     },
     "execution_count": 155,
     "metadata": {},
     "output_type": "execute_result"
    }
   ],
   "source": [
    "prod"
   ]
  },
  {
   "cell_type": "code",
   "execution_count": 156,
   "id": "d3743523",
   "metadata": {},
   "outputs": [],
   "source": [
    "avg_prices.sort(reverse=True)"
   ]
  },
  {
   "cell_type": "code",
   "execution_count": 157,
   "id": "ad83d479",
   "metadata": {},
   "outputs": [
    {
     "data": {
      "text/plain": [
       "[87, 67, 15, 12, 11, 10]"
      ]
     },
     "execution_count": 157,
     "metadata": {},
     "output_type": "execute_result"
    }
   ],
   "source": [
    "avg_prices"
   ]
  },
  {
   "cell_type": "code",
   "execution_count": 160,
   "id": "4dbfe0f9",
   "metadata": {},
   "outputs": [],
   "source": [
    "prod.sort(reverse=True)"
   ]
  },
  {
   "cell_type": "code",
   "execution_count": 162,
   "id": "d26e7cc1",
   "metadata": {},
   "outputs": [
    {
     "data": {
      "text/plain": [
       "['mango', 'banana', 'apple']"
      ]
     },
     "execution_count": 162,
     "metadata": {},
     "output_type": "execute_result"
    }
   ],
   "source": [
    "prod"
   ]
  },
  {
   "cell_type": "code",
   "execution_count": 163,
   "id": "8dccf741",
   "metadata": {},
   "outputs": [
    {
     "data": {
      "text/plain": [
       "[10, 11, 12, 12.5, 15, 67, 87]"
      ]
     },
     "execution_count": 163,
     "metadata": {},
     "output_type": "execute_result"
    }
   ],
   "source": [
    "avg_prices=[10,11,12,12.5,15,67,87]\n",
    "avg_prices.sort()\n",
    "avg_prices"
   ]
  },
  {
   "cell_type": "code",
   "execution_count": 164,
   "id": "4ef7cf22",
   "metadata": {},
   "outputs": [
    {
     "ename": "TypeError",
     "evalue": "'<' not supported between instances of 'str' and 'int'",
     "output_type": "error",
     "traceback": [
      "\u001b[1;31m---------------------------------------------------------------------------\u001b[0m",
      "\u001b[1;31mTypeError\u001b[0m                                 Traceback (most recent call last)",
      "Cell \u001b[1;32mIn[164], line 2\u001b[0m\n\u001b[0;32m      1\u001b[0m avg_prices\u001b[38;5;241m=\u001b[39m[\u001b[38;5;241m10\u001b[39m,\u001b[38;5;241m11\u001b[39m,\u001b[38;5;241m12\u001b[39m,\u001b[38;5;241m12.5\u001b[39m,\u001b[38;5;241m15\u001b[39m,\u001b[38;5;241m67\u001b[39m,\u001b[38;5;241m87\u001b[39m,\u001b[38;5;124m\"\u001b[39m\u001b[38;5;124mhy\u001b[39m\u001b[38;5;124m\"\u001b[39m]\n\u001b[1;32m----> 2\u001b[0m \u001b[43mavg_prices\u001b[49m\u001b[38;5;241;43m.\u001b[39;49m\u001b[43msort\u001b[49m\u001b[43m(\u001b[49m\u001b[43m)\u001b[49m\n\u001b[0;32m      3\u001b[0m avg_prices\n",
      "\u001b[1;31mTypeError\u001b[0m: '<' not supported between instances of 'str' and 'int'"
     ]
    }
   ],
   "source": [
    "avg_prices=[10,11,12,12.5,15,67,87,\"hy\"]\n",
    "avg_prices.sort()\n",
    "avg_prices"
   ]
  },
  {
   "cell_type": "code",
   "execution_count": 166,
   "id": "3d51ff1f",
   "metadata": {},
   "outputs": [
    {
     "name": "stdout",
     "output_type": "stream",
     "text": [
      "True\n"
     ]
    }
   ],
   "source": [
    "products=[\"Dairy\",\"Bakery\",\"Grocery\",\"Clothings\"]\n",
    "print(\"Bakery\" in products)"
   ]
  },
  {
   "cell_type": "code",
   "execution_count": 167,
   "id": "215377dc",
   "metadata": {},
   "outputs": [
    {
     "name": "stdout",
     "output_type": "stream",
     "text": [
      "False\n"
     ]
    }
   ],
   "source": [
    "print(\"Bakery\" not in products)"
   ]
  },
  {
   "cell_type": "code",
   "execution_count": 168,
   "id": "cbf9b5af",
   "metadata": {},
   "outputs": [
    {
     "name": "stdout",
     "output_type": "stream",
     "text": [
      "Dairy\n",
      "Bakery\n",
      "Grocery\n",
      "Clothings\n"
     ]
    }
   ],
   "source": [
    "for books in products:\n",
    "    print(books)"
   ]
  },
  {
   "cell_type": "code",
   "execution_count": 169,
   "id": "13ed0677",
   "metadata": {},
   "outputs": [
    {
     "data": {
      "text/plain": [
       "6"
      ]
     },
     "execution_count": 169,
     "metadata": {},
     "output_type": "execute_result"
    }
   ],
   "source": [
    "prices=[1,2,3,4,6,-8]\n",
    "len(prices)"
   ]
  },
  {
   "cell_type": "code",
   "execution_count": 170,
   "id": "ce17e4d4",
   "metadata": {},
   "outputs": [
    {
     "data": {
      "text/plain": [
       "6"
      ]
     },
     "execution_count": 170,
     "metadata": {},
     "output_type": "execute_result"
    }
   ],
   "source": [
    "max(prices)"
   ]
  },
  {
   "cell_type": "code",
   "execution_count": 171,
   "id": "289991e7",
   "metadata": {},
   "outputs": [
    {
     "data": {
      "text/plain": [
       "-8"
      ]
     },
     "execution_count": 171,
     "metadata": {},
     "output_type": "execute_result"
    }
   ],
   "source": [
    "min(prices)"
   ]
  },
  {
   "cell_type": "code",
   "execution_count": 172,
   "id": "675f5289",
   "metadata": {},
   "outputs": [
    {
     "data": {
      "text/plain": [
       "[]"
      ]
     },
     "execution_count": 172,
     "metadata": {},
     "output_type": "execute_result"
    }
   ],
   "source": [
    "products.clear()\n",
    "products"
   ]
  },
  {
   "cell_type": "code",
   "execution_count": 173,
   "id": "287c57b1",
   "metadata": {},
   "outputs": [
    {
     "data": {
      "text/plain": [
       "1"
      ]
     },
     "execution_count": 173,
     "metadata": {},
     "output_type": "execute_result"
    }
   ],
   "source": [
    "prices=[1,4,5,6,8,9,10,]\n",
    "prices.count(1)"
   ]
  },
  {
   "cell_type": "code",
   "execution_count": 174,
   "id": "1af7c8e8",
   "metadata": {},
   "outputs": [],
   "source": [
    "items=[\"hii\",\"hello\"]\n",
    "prices.extend(items)"
   ]
  },
  {
   "cell_type": "code",
   "execution_count": 175,
   "id": "395b1bfd",
   "metadata": {},
   "outputs": [
    {
     "data": {
      "text/plain": [
       "[1, 4, 5, 6, 8, 9, 10, 'hii', 'hello']"
      ]
     },
     "execution_count": 175,
     "metadata": {},
     "output_type": "execute_result"
    }
   ],
   "source": [
    "prices"
   ]
  },
  {
   "cell_type": "code",
   "execution_count": 177,
   "id": "c4318b86",
   "metadata": {},
   "outputs": [
    {
     "data": {
      "text/plain": [
       "7"
      ]
     },
     "execution_count": 177,
     "metadata": {},
     "output_type": "execute_result"
    }
   ],
   "source": [
    "prices.index(\"hii\")\n"
   ]
  },
  {
   "cell_type": "code",
   "execution_count": 178,
   "id": "630bc1a2",
   "metadata": {},
   "outputs": [
    {
     "data": {
      "text/plain": [
       "[1, 4, 'ai', 5, 6, 8, 9, 10, 'hii', 'hello']"
      ]
     },
     "execution_count": 178,
     "metadata": {},
     "output_type": "execute_result"
    }
   ],
   "source": [
    "prices.insert(2,\"ai\")\n",
    "prices"
   ]
  },
  {
   "cell_type": "code",
   "execution_count": 179,
   "id": "92f133cb",
   "metadata": {},
   "outputs": [
    {
     "data": {
      "text/plain": [
       "[1, 4, 5, 6, 8, 9, 10, 'hii', 'hello']"
      ]
     },
     "execution_count": 179,
     "metadata": {},
     "output_type": "execute_result"
    }
   ],
   "source": [
    "prices.pop(2)\n",
    "prices"
   ]
  },
  {
   "cell_type": "code",
   "execution_count": 180,
   "id": "66edfab8",
   "metadata": {},
   "outputs": [
    {
     "data": {
      "text/plain": [
       "[1, 4, 5, 6, 8, 9, 10, 'hii']"
      ]
     },
     "execution_count": 180,
     "metadata": {},
     "output_type": "execute_result"
    }
   ],
   "source": [
    "prices.remove(\"hello\")\n",
    "prices"
   ]
  },
  {
   "cell_type": "code",
   "execution_count": 181,
   "id": "56c2dfdd",
   "metadata": {},
   "outputs": [],
   "source": [
    "prices.reverse()"
   ]
  },
  {
   "cell_type": "code",
   "execution_count": 182,
   "id": "0424f79d",
   "metadata": {},
   "outputs": [
    {
     "data": {
      "text/plain": [
       "['hii', 10, 9, 8, 6, 5, 4, 1]"
      ]
     },
     "execution_count": 182,
     "metadata": {},
     "output_type": "execute_result"
    }
   ],
   "source": [
    "prices"
   ]
  },
  {
   "cell_type": "code",
   "execution_count": 183,
   "id": "15683b32",
   "metadata": {},
   "outputs": [
    {
     "data": {
      "text/plain": [
       "['hii', 10, 9]"
      ]
     },
     "execution_count": 183,
     "metadata": {},
     "output_type": "execute_result"
    }
   ],
   "source": [
    "prices[0:3]"
   ]
  },
  {
   "cell_type": "code",
   "execution_count": 184,
   "id": "1c0062d2",
   "metadata": {},
   "outputs": [
    {
     "data": {
      "text/plain": [
       "[6]"
      ]
     },
     "execution_count": 184,
     "metadata": {},
     "output_type": "execute_result"
    }
   ],
   "source": [
    "prices[4:5]"
   ]
  },
  {
   "cell_type": "code",
   "execution_count": 185,
   "id": "d834b1d3",
   "metadata": {},
   "outputs": [
    {
     "data": {
      "text/plain": [
       "4"
      ]
     },
     "execution_count": 185,
     "metadata": {},
     "output_type": "execute_result"
    }
   ],
   "source": [
    "prices[-2]"
   ]
  },
  {
   "cell_type": "code",
   "execution_count": 186,
   "id": "12395ef1",
   "metadata": {},
   "outputs": [
    {
     "data": {
      "text/plain": [
       "['hii', 10, 9, 8, 6, 5, 4]"
      ]
     },
     "execution_count": 186,
     "metadata": {},
     "output_type": "execute_result"
    }
   ],
   "source": [
    "prices[0:-1]"
   ]
  },
  {
   "cell_type": "code",
   "execution_count": 188,
   "id": "1cfff16c",
   "metadata": {},
   "outputs": [
    {
     "data": {
      "text/plain": [
       "['ds', 10, 9, 8, 6, 5, 4, 1]"
      ]
     },
     "execution_count": 188,
     "metadata": {},
     "output_type": "execute_result"
    }
   ],
   "source": [
    "prices[0]=\"ds\"\n",
    "prices"
   ]
  },
  {
   "cell_type": "markdown",
   "id": "86a48aec",
   "metadata": {},
   "source": [
    "#### List is mutable-> change after creating the list"
   ]
  },
  {
   "cell_type": "code",
   "execution_count": null,
   "id": "1d6cf7ed",
   "metadata": {},
   "outputs": [],
   "source": []
  }
 ],
 "metadata": {
  "kernelspec": {
   "display_name": "Python 3 (ipykernel)",
   "language": "python",
   "name": "python3"
  },
  "language_info": {
   "codemirror_mode": {
    "name": "ipython",
    "version": 3
   },
   "file_extension": ".py",
   "mimetype": "text/x-python",
   "name": "python",
   "nbconvert_exporter": "python",
   "pygments_lexer": "ipython3",
   "version": "3.10.9"
  }
 },
 "nbformat": 4,
 "nbformat_minor": 5
}
